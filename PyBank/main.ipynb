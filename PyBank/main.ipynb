{
 "cells": [
  {
   "cell_type": "code",
   "execution_count": null,
   "id": "449980f4-4f0a-428b-a84a-fecc44044a41",
   "metadata": {},
   "outputs": [],
   "source": []
  },
  {
   "cell_type": "code",
   "execution_count": 2,
   "id": "0c2c1332-47e7-477d-9400-1e6986b22125",
   "metadata": {},
   "outputs": [
    {
     "name": "stdout",
     "output_type": "stream",
     "text": [
      "<_csv.reader object at 0x00000265D2539F28>\n",
      "\n",
      "  Financial Analysis\n",
      "  ----------------------------\n",
      "  Total Months: 86\n",
      "  Total: $38,382,578\n",
      "  Average Change: $-2,315.12\n",
      "  Greatest Increase in Profits: Feb-2012 ($1,926,159)\n",
      "  Greatest Decrease in Profits: Sep-2013 ($-2,196,167)\n",
      "\n"
     ]
    }
   ],
   "source": [
    "# import pathfile lib and use import csv to expect a csv file for data\n",
    "from pathlib import Path\n",
    "import csv\n",
    "\n",
    "# set the input filepath to source the data file\n",
    "filepath = Path(\"./Resources/budget_data.csv\")\n",
    "\n",
    "# Initialize the metric variables\n",
    "count_of_months = 0 # The total number of months included in the dataset\n",
    "total_profit = 0 # The net total amount of Profit/Losses over the entire period\n",
    "total_change = 0 # The average of the changes in Profit/Losses over the entire period\n",
    "last_profit = 0 \n",
    "greatest_profit = -99999999 # The greatest increase in profits (date and amount) over the entire period\n",
    "greatest_loss = 99999999 # The greatest decrease in losses (date and amount) over the entire period\n",
    "\n",
    "greatest_profit_month = \"\" # blank variable to collect the profit\n",
    "greatest_loss_month = \"\" # blank variable to collect the losses\n",
    "\n",
    "# Open the filepath in \"read\" mode ('r') and store the contents in the variable \"data\"\n",
    "with open(filepath, 'r') as file_content:\n",
    "\n",
    "    # store all the data from the file inside a variable called \"data\" and print the contents of the data file\n",
    "    # https://docs.python.org/3/library/csv.html describes the csv.reader module as, \"the csv module implements\n",
    "    # classes to read and write tabular data in CSV format, otherwise would have have to build a dict\n",
    "    data = csv.reader(file_content)\n",
    "    print(data) # to have a look at the raw data\n",
    "    head = next(data) # next command intuitively knows to remove the \"next\" line from the data\n",
    "# print(head) Note: can liven this command to confirm the header is date,profit/loss that is being skipped\n",
    "\n",
    "# here is the loop\n",
    "\n",
    "    for Row in data:\n",
    "       \n",
    "        Row[1] = int(Row[1]) # converts the string to an integer to allow it to be summed\n",
    "        total_profit += Row[1]  # equivalent to total_profit = total_profit + the next relavnt row/cell\n",
    "        if count_of_months > 0: # sets the condition, if = 0, then go straight to the end of the indent\n",
    "            change = Row[1] - last_profit \n",
    "            if change > greatest_profit:\n",
    "                greatest_profit = change\n",
    "                greatest_profit_month = Row[0]\n",
    "            if change < greatest_loss:\n",
    "                greatest_loss = change\n",
    "                greatest_loss_month = Row[0]\n",
    "        \n",
    "            total_change += change # total_change = total_change + change\n",
    "        \n",
    "        count_of_months += 1 # count_of_months = count of months plus one month until the loop ends\n",
    "        last_profit = Row[1]\n",
    "# print(Row)\n",
    "        \n",
    "# syntax ,.02f allows for the formatting of numbers in a number readable format, commas and decimal points\n",
    "# Note average change required the removal of the first month in the denominator to arrive at the correct\n",
    "# average change amount, otherwise it would have divided by 86 instead of 85, as there are only 85 \"changes\"\n",
    "    \n",
    "print(f'''\n",
    "  Financial Analysis\n",
    "  ----------------------------\n",
    "  Total Months: {count_of_months}\n",
    "  Total: ${total_profit:,.0f}\n",
    "  Average Change: ${total_change/(count_of_months-1):,.02f}\n",
    "  Greatest Increase in Profits: {greatest_profit_month} (${greatest_profit:,.0f})\n",
    "  Greatest Decrease in Profits: {greatest_loss_month} (${greatest_loss:,.0f})\n",
    "''')"
   ]
  },
  {
   "cell_type": "code",
   "execution_count": null,
   "id": "c6591058-ba18-49cb-b21e-214d98c9a8c7",
   "metadata": {},
   "outputs": [],
   "source": []
  }
 ],
 "metadata": {
  "kernelspec": {
   "display_name": "Python 3",
   "language": "python",
   "name": "python3"
  },
  "language_info": {
   "codemirror_mode": {
    "name": "ipython",
    "version": 3
   },
   "file_extension": ".py",
   "mimetype": "text/x-python",
   "name": "python",
   "nbconvert_exporter": "python",
   "pygments_lexer": "ipython3",
   "version": "3.7.10"
  }
 },
 "nbformat": 4,
 "nbformat_minor": 5
}
